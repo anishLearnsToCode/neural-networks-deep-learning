{
 "cells": [
  {
   "cell_type": "markdown",
   "metadata": {},
   "source": [
    "# Logistic Regression\n",
    "Logistic Regression is used as a classification algorithm that we ue to train  aclassifier ona  data set whose result takes on a discrete set of finite values. "
   ]
  },
  {
   "cell_type": "code",
   "execution_count": 15,
   "metadata": {},
   "outputs": [
    {
     "data": {
      "text/latex": [
       "Taking the special case of binary logistic regression where the discrte output values can only be $0$ or $1$.\n",
       "\n",
       "Let $n$ denote the dimension of a single input vector $x$ and $m$ denote the number of training examples available.\n",
       "\n",
       "Let $X$ denote the training exmaple with dimension $X \\in \\mathbb{R}^{n, m}$\n",
       "Let $Y$ denote the output values (0 or 1) with dimension $Y \\in \\mathbb{R}^{1, m}$\n",
       "\n",
       "\n",
       "We define Parameters\n"
      ],
      "text/plain": [
       "<IPython.core.display.Latex object>"
      ]
     },
     "metadata": {},
     "output_type": "display_data"
    }
   ],
   "source": [
    "%%latex\n",
    "Taking the special case of binary logistic regression where the discrte output values can only be $0$ or $1$.\n",
    "\n",
    "Let $n$ denote the dimension of a single input vector $x$ and $m$ denote the number of training examples available.\n",
    "\n",
    "Let $X$ denote the training exmaple with dimension $X \\in \\mathbb{R}^{n, m}$\n",
    "Let $Y$ denote the output values (0 or 1) with dimension $Y \\in \\mathbb{R}^{1, m}$\n",
    "\n",
    "\n",
    "We define Parameters"
   ]
  }
 ],
 "metadata": {
  "kernelspec": {
   "display_name": "Python 3",
   "language": "python",
   "name": "python3"
  },
  "language_info": {
   "codemirror_mode": {
    "name": "ipython",
    "version": 3
   },
   "file_extension": ".py",
   "mimetype": "text/x-python",
   "name": "python",
   "nbconvert_exporter": "python",
   "pygments_lexer": "ipython3",
   "version": "3.7.8"
  }
 },
 "nbformat": 4,
 "nbformat_minor": 4
}
